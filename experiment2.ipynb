{
 "cells": [
  {
   "cell_type": "code",
   "execution_count": 17,
   "metadata": {},
   "outputs": [],
   "source": [
    "import os\n",
    "from dotenv import load_dotenv\n",
    "load_dotenv()\n",
    "api_key = os.getenv(\"OPENAI_API_KEY\")\n",
    "serper_api_key = os.getenv(\"SERPER_API_KEY\")\n",
    "groq_api_key = os.getenv(\"GROQ_API_KEY\")"
   ]
  },
  {
   "cell_type": "code",
   "execution_count": 18,
   "metadata": {},
   "outputs": [
    {
     "data": {
      "text/plain": [
       "'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'"
      ]
     },
     "execution_count": 18,
     "metadata": {},
     "output_type": "execute_result"
    }
   ],
   "source": [
    "groq_api_key"
   ]
  },
  {
   "cell_type": "code",
   "execution_count": 10,
   "metadata": {},
   "outputs": [],
   "source": [
    "from langchain_groq import ChatGroq"
   ]
  },
  {
   "cell_type": "code",
   "execution_count": null,
   "metadata": {},
   "outputs": [],
   "source": [
    "os.env"
   ]
  },
  {
   "cell_type": "code",
   "execution_count": 19,
   "metadata": {},
   "outputs": [],
   "source": [
    "llm = ChatGroq(model=\"deepseek-r1-distill-llama-70b\",api_key=groq_api_key)"
   ]
  },
  {
   "cell_type": "code",
   "execution_count": 21,
   "metadata": {},
   "outputs": [
    {
     "data": {
      "text/plain": [
       "\"<think>\\n\\n</think>\\n\\nData science is an interdisciplinary field that uses scientific methods, processes, algorithms, and systems to extract knowledge and insights from structured and unstructured data. It involves a range of techniques from data mining, machine learning, natural language processing, and visualization to uncover patterns, predict trends, and make informed decisions.\\n\\n### Key Components of Data Science:\\n1. **Data**: The raw material for analysis, which can come from various sources (e.g., databases, APIs, IoT devices).\\n2. **Data Cleaning/Preparation**: Ensuring the data is accurate, complete, and in a usable format.\\n3. **Analysis**: Using statistical methods and machine learning algorithms to identify patterns and relationships.\\n4. **Visualization**: Presenting findings in a clear and meaningful way using charts, graphs, and other tools.\\n5. **Insight Generation**: Drawing meaningful conclusions from the data to inform business decisions or solve problems.\\n\\n### Data Science Process:\\n1. **Problem Definition**: Identifying the question or problem to be solved.\\n2. **Data Collection**: Gathering relevant data from various sources.\\n3. **Data Cleaning**: Removing duplicates, handling missing data, and standardizing formats.\\n4. **Exploratory Data Analysis (EDA)**: Understanding the data through summary statistics and visualizations.\\n5. **Modeling**: Applying algorithms to predict outcomes or classify data.\\n6. **Evaluation**: Assessing the performance of the model.\\n7. **Deployment**: Implementing the model in a production environment.\\n8. **Monitoring**: Continuously tracking the model's performance and retraining as needed.\\n\\n### Applications of Data Science:\\n- **Business Analytics**: Optimizing operations, predicting market trends, and improving customer experiences.\\n- **Healthcare**: Improving diagnosis accuracy, personalized medicine, and drug discovery.\\n- **Finance**: Risk management, fraud detection, and algorithmic trading.\\n- **Marketing**: Targeted advertising, customer segmentation, and campaign optimization.\\n- **Social Media**: Sentiment analysis, trend prediction, and user behavior analysis.\\n\\n### Skills Required:\\n- **Technical Skills**: Proficiency in programming languages like Python, R, or SQL; familiarity with machine learning libraries and big data tools.\\n- **Analytical Skills**: Ability to interpret data and draw meaningful conclusions.\\n- **Communication Skills**: Effectively presenting insights to non-technical stakeholders.\\n- **Domain Knowledge**: Understanding the specific industry or problem domain to apply data science effectively.\\n\\nData science is a rapidly evolving field, driven by advancements in technology, the increasing availability of data, and the growing demand for data-driven decision-making across industries.\""
      ]
     },
     "execution_count": 21,
     "metadata": {},
     "output_type": "execute_result"
    }
   ],
   "source": [
    "llm.invoke(\"what is Data science?\").content"
   ]
  },
  {
   "cell_type": "code",
   "execution_count": 23,
   "metadata": {},
   "outputs": [],
   "source": [
    "tool = llm.bind_tools([])"
   ]
  },
  {
   "cell_type": "code",
   "execution_count": 8,
   "metadata": {},
   "outputs": [],
   "source": [
    "from  langchain.chat_models import ChatOpenAI\n",
    "llm = ChatOpenAI(model= \"gpt-4-turbo\",api_key = api_key)"
   ]
  },
  {
   "cell_type": "code",
   "execution_count": 4,
   "metadata": {},
   "outputs": [
    {
     "data": {
      "text/plain": [
       "AIMessage(content='Machine learning is a subset of artificial intelligence that involves the development of algorithms and statistical models that enable computers to learn from and make predictions or decisions based on data. In machine learning, computers are trained on a large amount of data to identify patterns and relationships, and then use that information to make decisions or predictions without being explicitly programmed to do so. Machine learning is used in a wide range of applications, such as image and speech recognition, natural language processing, recommendation systems, and predictive analytics.', additional_kwargs={}, response_metadata={'token_usage': {'completion_tokens': 99, 'prompt_tokens': 11, 'total_tokens': 110, 'completion_tokens_details': {'accepted_prediction_tokens': 0, 'audio_tokens': 0, 'reasoning_tokens': 0, 'rejected_prediction_tokens': 0}, 'prompt_tokens_details': {'audio_tokens': 0, 'cached_tokens': 0}}, 'model_name': 'gpt-3.5-turbo', 'system_fingerprint': None, 'finish_reason': 'stop', 'logprobs': None}, id='run-42f911c5-0e49-49d8-87a4-f8466f3b4941-0')"
      ]
     },
     "execution_count": 4,
     "metadata": {},
     "output_type": "execute_result"
    }
   ],
   "source": [
    "llm.invoke(\"what is machine learning\")"
   ]
  },
  {
   "cell_type": "code",
   "execution_count": 9,
   "metadata": {},
   "outputs": [
    {
     "ename": "NotImplementedError",
     "evalue": "",
     "output_type": "error",
     "traceback": [
      "\u001b[1;31m---------------------------------------------------------------------------\u001b[0m",
      "\u001b[1;31mNotImplementedError\u001b[0m                       Traceback (most recent call last)",
      "Cell \u001b[1;32mIn[9], line 1\u001b[0m\n\u001b[1;32m----> 1\u001b[0m tool \u001b[38;5;241m=\u001b[39m\u001b[43mllm\u001b[49m\u001b[38;5;241;43m.\u001b[39;49m\u001b[43mbind_tools\u001b[49m\u001b[43m(\u001b[49m\u001b[43m[\u001b[49m\u001b[43m]\u001b[49m\u001b[43m)\u001b[49m\n",
      "File \u001b[1;32md:\\multi_agent_network\\venv\\lib\\site-packages\\langchain_core\\language_models\\chat_models.py:1174\u001b[0m, in \u001b[0;36mBaseChatModel.bind_tools\u001b[1;34m(self, tools, tool_choice, **kwargs)\u001b[0m\n\u001b[0;32m   1165\u001b[0m \u001b[38;5;28;01mdef\u001b[39;00m\u001b[38;5;250m \u001b[39m\u001b[38;5;21mbind_tools\u001b[39m(\n\u001b[0;32m   1166\u001b[0m     \u001b[38;5;28mself\u001b[39m,\n\u001b[0;32m   1167\u001b[0m     tools: Sequence[\n\u001b[1;32m   (...)\u001b[0m\n\u001b[0;32m   1172\u001b[0m     \u001b[38;5;241m*\u001b[39m\u001b[38;5;241m*\u001b[39mkwargs: Any,\n\u001b[0;32m   1173\u001b[0m ) \u001b[38;5;241m-\u001b[39m\u001b[38;5;241m>\u001b[39m Runnable[LanguageModelInput, BaseMessage]:\n\u001b[1;32m-> 1174\u001b[0m     \u001b[38;5;28;01mraise\u001b[39;00m \u001b[38;5;167;01mNotImplementedError\u001b[39;00m\n",
      "\u001b[1;31mNotImplementedError\u001b[0m: "
     ]
    }
   ],
   "source": [
    "tool =llm.bind_tools([])"
   ]
  },
  {
   "cell_type": "code",
   "execution_count": null,
   "metadata": {},
   "outputs": [],
   "source": []
  },
  {
   "cell_type": "code",
   "execution_count": null,
   "metadata": {},
   "outputs": [],
   "source": []
  },
  {
   "cell_type": "code",
   "execution_count": null,
   "metadata": {},
   "outputs": [],
   "source": []
  },
  {
   "cell_type": "code",
   "execution_count": null,
   "metadata": {},
   "outputs": [],
   "source": []
  },
  {
   "cell_type": "code",
   "execution_count": null,
   "metadata": {},
   "outputs": [],
   "source": []
  },
  {
   "cell_type": "code",
   "execution_count": null,
   "metadata": {},
   "outputs": [],
   "source": []
  },
  {
   "cell_type": "code",
   "execution_count": null,
   "metadata": {},
   "outputs": [],
   "source": []
  }
 ],
 "metadata": {
  "kernelspec": {
   "display_name": "venv",
   "language": "python",
   "name": "python3"
  },
  "language_info": {
   "codemirror_mode": {
    "name": "ipython",
    "version": 3
   },
   "file_extension": ".py",
   "mimetype": "text/x-python",
   "name": "python",
   "nbconvert_exporter": "python",
   "pygments_lexer": "ipython3",
   "version": "3.10.0"
  }
 },
 "nbformat": 4,
 "nbformat_minor": 2
}
