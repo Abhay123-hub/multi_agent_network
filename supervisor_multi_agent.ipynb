{
 "cells": [
  {
   "cell_type": "code",
   "execution_count": 1,
   "metadata": {},
   "outputs": [],
   "source": [
    "import os\n",
    "from dotenv import load_dotenv"
   ]
  },
  {
   "cell_type": "code",
   "execution_count": 2,
   "metadata": {},
   "outputs": [
    {
     "data": {
      "text/plain": [
       "True"
      ]
     },
     "execution_count": 2,
     "metadata": {},
     "output_type": "execute_result"
    }
   ],
   "source": [
    "load_dotenv()"
   ]
  },
  {
   "cell_type": "code",
   "execution_count": 3,
   "metadata": {},
   "outputs": [],
   "source": [
    "os.environ[\"LANGCHAIN_TRACING_V2\"] = \"true\"\n",
    "os.environ[\"LANGCHAIN_API_KEY\"] = os.getenv(\"LANGCHAIN_API_KEY\")"
   ]
  },
  {
   "cell_type": "code",
   "execution_count": 4,
   "metadata": {},
   "outputs": [],
   "source": [
    "api_key = os.getenv(\"OPENAI_API_KEY\")\n",
    "serper_api_key = os.getenv(\"SERPER_API_KEY\")\n",
    "groq_api_key = os.getenv(\"GROQ_API_KEY\")"
   ]
  },
  {
   "cell_type": "code",
   "execution_count": 5,
   "metadata": {},
   "outputs": [],
   "source": [
    "tavily_key = os.getenv(\"tavily_key\")"
   ]
  },
  {
   "cell_type": "code",
   "execution_count": 6,
   "metadata": {},
   "outputs": [],
   "source": [
    "from langchain_groq import ChatGroq\n",
    "llm = ChatGroq(model=\"deepseek-r1-distill-llama-70b\",api_key=groq_api_key)"
   ]
  },
  {
   "cell_type": "code",
   "execution_count": 7,
   "metadata": {},
   "outputs": [
    {
     "data": {
      "text/plain": [
       "\"<think>\\nOkay, so I need to figure out what Data Science is. I've heard the term a lot, especially in tech circles, but I'm not entirely sure what it entails. Let me start by breaking it down. \\n\\nData Science... the name suggests it's a field related to data and science. I know that science involves systematic methods and analysis, so maybe Data Science is about systematically analyzing data. But how?\\n\\nI remember reading somewhere that Data Science involves extracting insights from data. That makes sense because data on its own is just numbers and information, but insights are what make it useful. So, Data Science must be the process of turning raw data into actionable information.\\n\\nI think it's a multidisciplinary field. I've heard it combines skills from statistics, computer science, and domain-specific knowledge. So, maybe a data scientist needs to know how to code, understand statistics, and have some expertise in the area they're applying their skills to, like healthcare or finance.\\n\\nWhat do data scientists do exactly? I imagine they collect data from various sources. Then, they might clean it because raw data can have errors or be incomplete. After that, they probably analyze it using different methods. I've heard terms like machine learning thrown around, so maybe they build models to predict things or find patterns.\\n\\nWait, machine learning is a part of Data Science? I think so. Machine learning involves training models on data to make predictions or decisions without being explicitly programmed. So, data scientists might use machine learning algorithms to analyze data and make forecasts or recommendations.\\n\\nI also think data visualization is a big part of it. Once they've analyzed the data, they need to present their findings in a way that's understandable to others, maybe through graphs or charts. Tools like Tableau or Power BI come to mind for this.\\n\\nWhat about the process? I've heard of the data science lifecycle or workflow. It probably starts with understanding the problem, then collecting data, processing it, analyzing, modeling, and then deploying the model or presenting the insights.\\n\\nI wonder what tools data scientists use. I know Python and R are popular programming languages for data analysis. There's also SQL for handling databases. Maybe they use big data tools like Hadoop or Spark when dealing with large datasets.\\n\\nWhat industries use Data Science? It seems like it's everywhere now. Healthcare for patient data, finance for risk analysis, marketing for customer insights, retail for inventory and sales predictions. Even sports teams use it for player performance and game strategy.\\n\\nBut wait, isn't Data Science different from traditional statistics? I think so. While both deal with data analysis, Data Science incorporates more advanced computational methods and handles larger, more complex datasets. It also tends to be more interdisciplinary.\\n\\nI'm a bit confused about the difference between Data Science and Data Analytics. From what I understand, Data Analytics is more about analyzing existing data sets to answer specific questions, while Data Science is broader, involving the entire process from data collection to insight generation and model building.\\n\\nSo, putting it all together, Data Science is an interdisciplinary field that uses scientific methods, processes, algorithms, and systems to extract knowledge and insights from structured and unstructured data. It involves various steps like data collection, cleaning, analysis, modeling, and visualization to help organizations make informed decisions.\\n\\nI should also mention the role of a data scientist. They are the professionals who perform these tasks, requiring a mix of skills in programming, statistics, and domain knowledge. They use various tools and techniques to turn data into actionable insights, driving business decisions or solving complex problems.\\n\\nI think I've covered the main points. Data Science is about using data to gain insights and make informed decisions, employing a range of techniques from statistics to machine learning, and involving various steps from data collection to visualization. It's a key field in today's data-driven world, applicable across multiple industries.\\n</think>\\n\\n**Data Science: A Comprehensive Overview**\\n\\nData Science is an interdisciplinary field that systematically extracts knowledge and insights from both structured and unstructured data. It combines elements from statistics, computer science, and domain-specific expertise to transform raw data into actionable information. Here's a structured breakdown of the field:\\n\\n1. **Definition and Scope**:\\n   - Data Science involves using scientific methods, algorithms, and systems to analyze data, often for informed decision-making.\\n   - It encompasses the entire data lifecycle, including collection, cleaning, analysis, modeling, and visualization.\\n\\n2. **Key Activities**:\\n   - **Data Collection**: Gathering data from various sources.\\n   - **Data Cleaning**: Ensuring data accuracy and completeness by removing errors.\\n   - **Data Analysis**: Using statistical methods and machine learning to uncover patterns and insights.\\n   - **Model Building**: Employing machine learning to create predictive models.\\n   - **Data Visualization**: Presenting findings through graphs and charts for better understanding.\\n\\n3. **Tools and Techniques**:\\n   - Programming languages like Python and R.\\n   - SQL for database management.\\n   - Big data tools such as Hadoop and Spark for handling large datasets.\\n   - Visualization tools like Tableau and Power BI.\\n\\n4. **Applications Across Industries**:\\n   - **Healthcare**: Patient data analysis and treatment recommendations.\\n   - **Finance**: Risk assessment and fraud detection.\\n   - **Marketing**: Customer behavior analysis and campaign optimization.\\n   - **Retail**: Inventory management and sales forecasting.\\n   - **Sports**: Player performance analysis and strategy development.\\n\\n5. **Differentiation from Data Analytics**:\\n   - Data Science is broader, covering the entire data lifecycle and employing advanced methods, while Data Analytics focuses on answering specific questions with existing data.\\n\\n6. **Role of a Data Scientist**:\\n   - Professionals who combine programming, statistical, and domain-specific skills to derive insights and solve complex problems, driving business decisions.\\n\\nIn summary, Data Science is a vital field in today's data-driven world, enabling organizations to harness data for strategic advantage across various industries. It integrates diverse skills and tools to transform data into meaningful insights, fostering informed decision-making and problem-solving.\""
      ]
     },
     "execution_count": 7,
     "metadata": {},
     "output_type": "execute_result"
    }
   ],
   "source": [
    "llm.invoke(\"what is Data Science?\").content"
   ]
  },
  {
   "cell_type": "code",
   "execution_count": 8,
   "metadata": {},
   "outputs": [],
   "source": [
    "os.environ[\"TAVILY_API_KEY\"] = tavily_key"
   ]
  },
  {
   "cell_type": "code",
   "execution_count": 9,
   "metadata": {},
   "outputs": [],
   "source": [
    "from langchain_community.tools.tavily_search import TavilySearchResults\n",
    "search = TavilySearchResults(max_results=5)"
   ]
  },
  {
   "cell_type": "code",
   "execution_count": 10,
   "metadata": {},
   "outputs": [
    {
     "data": {
      "text/plain": [
       "[{'title': 'RCB vs CSK highlights, IPL 2025: Royal Challengers Bengaluru ...',\n",
       "  'url': 'https://www.livemint.com/sports/cricket-news/csk-vs-rcb-live-score-updates-ipl-2025-chennai-super-kings-vs-royal-challengers-bengaluru-latest-scorecard-virat-dhoni-11743160996307.html',\n",
       "  'content': 'RCB vs CSK highlights, IPL 2025: Royal Challengers Bengaluru beat Chennai Super Kings by 50 runs in their Indian Premier League (IPL) 2025 match on Friday. Chasing a target of 197, CSK ended up at 146 for 8 in 20 overs, their first defeat to RCB at Chepauk since 2008. [...] A total of 33 matches were played between the two teams. Out of the 33, CSK enjoy a 21-11 head-to-head record while one game ended in no result. The last match between CSK and RCB was won by the latter in the previous edition. It was also the same match which helped RCB enter the playoffs.\\n\\nCSK vs RCB LIVE Score: Massive craze for Dhoni, Virat in Chennai [...] RCB vs CSK LIVE Score: RCB win by 50 runs\\n\\nTwo sixes and a four in the final over from MS Dhoni, but that was too late. CSK manage 146/8 in 20 overs. RCB win by 50 runs.\\n\\nTwo sixes and a four in the final over from MS Dhoni, but that was too late. CSK manage 146/8 in 20 overs. RCB win by 50 runs.\\n\\nRCB vs CSK LIVE Score: New milestone for Ravindra Jadeja\\n\\nRavindra Jadeja becomes the first player in IPL to complete the double of 3000 runs and 100 wickets.',\n",
       "  'score': 0.8891543},\n",
       " {'title': 'CSK vs RCB, IPL 2025 Highlights: Royal Challengers Bengaluru ...',\n",
       "  'url': 'https://www.financialexpress.com/sports/ipl-2025-csk-vs-rcb-live-score-today-match-8-chennai-super-kings-vs-royal-challengers-bangalore-playing-11-weather-pitch-report/3791498/',\n",
       "  'content': 'Royal Challengers Bengaluru \\xa0  196/7 (20.0)\\n\\nMatch Ended ( Day – Match 8 )  Royal Challengers Bengaluru beat Chennai Super Kings by 50 runs\\n\\nIPL 2025 Match Live Updates: CSK vs RCB Live Cricket Score, Watch Live Chennai Super Kings vs Royal Challengers Bangalore Scorecard Playing 11\\n\\nRoyal Challengers Bengaluru create history at Chepauk, defeating Chennai Super Kings by 50 runs! This marks only their second-ever win at this venue in IPL history. CSK falls short at 146/8 in 20 overs. [...] CSK vs RCB, IPL 2025 Highlights: Royal Challengers Bengaluru beat Chennai Super Kings by 50 runs at Chepauk, break 17-year jinx\\n\\nCSK vs RCB, Chennai Super Kings vs Royal Challengers Bangalore Highlights: Royal Challengers Bengaluru beat Chennai Super Kings by 50 runs in Chennai. [...] CSK vs RCB, IPL 2025 Match Highlights: Chennai Super Kings suffered their second defeat of the Indian Premier League, falling to Royal Challengers Bengaluru by 50 runs at Chepauk. CSK struggled with the bat, losing seven wickets for just 99 runs. MS Dhoni walked in with his team needing 98 runs off 28 balls and provided a late spark with two sixes and a four in the final over, but it was far from enough. Rachin Ravindra was CSK’s top scorer with 41, but the team never recovered after slumping',\n",
       "  'score': 0.87166095},\n",
       " {'title': 'CSK vs RCB Highlights, IPL 2025: Royal Challengers win first game ...',\n",
       "  'url': 'https://sportstar.thehindu.com/cricket/ipl/ipl-news/csk-vs-rcb-live-score-ipl-2025-chennai-super-kings-royal-challengers-bengaluru-match-updates-streaming-info-highlights/article69385599.ece',\n",
       "  'content': 'Chennai Super Kings wins: 21\\n\\nRoyal Challengers Bengaluru wins: 11\\n\\nNo Result: 1\\n\\nLast result: Royal Challengers Bengaluru won by 27 runs (M. Chinnaswamy Stadium, 2024)\\n\\nCSK: Shivam Dube, Kamlesh Nagarkoti, Vijay Shankar, Jamie Overton, Shaik Rasheed\\n\\nRCB: Suyash Sharma, Rasikh Dar Salam, Jacob Bethell, Swapnil Singh, Manoj Bhandage [...] READ LATER\\n\\nWelcome to         Sportstar’s highlights of the IPL 2025 encounter between Chennai Super Kings and Royal Challengers Bengaluru (CSK vs RCB). This was Anish Pathiyil and Santadeep Dey taking you through all the action.\\n\\nIPL 2025 Points Table updated after CSK vs RCB: Royal Challengers remain top after thumping win; Super Kings NRR takes a hit [...] The rivalry between Chennai Super Kings and Royal Challengers Bengaluru, born out of the intensity of their fiery fan bases, will throw up its latest offering at the M.A. Chidambaram Stadium in Chennai on Friday.\\n\\nThat the two face off for the first time since RCB qualified for the Playoffs last season at the expense of CSK keeps the acrimony alive in this Indian Premier League (IPL) meeting.',\n",
       "  'score': 0.8646883},\n",
       " {'title': 'Chennai Super Kings vs Royal Challengers Bengaluru Highlights ...',\n",
       "  'url': 'https://sports.ndtv.com/ipl-2025/chennai-super-kings-vs-royal-challengers-bengaluru-live-score-ipl-2025-8th-match-csk-vs-rcb-live-updates-cricket-match-today-8032091',\n",
       "  'content': \"Chennai Super Kings vs Royal Challengers Bengaluru Highlights, IPL 2025: RCB beat CSK by 50 runs on Friday to break a 17-year jink of not winning a game at MA Chidambaram Stadium, Chennai. This happened to be RCB's second win at the venue with their first victory coming back in IPL 2008. Talking about the game, Rajat Patidar top-scored with 51 runs off 32 balls as RCB posted 196 for 7 in 20 overs after getting an invitation to bat first. Phil Salt (32 off 16) and Devdutt Padikkal (27 off 14) [...] Chennai Super Kings vs Royal Challengers Bengaluru Highlights, IPL 2025: RCB Breach Chepauk Fortress, Break 17-Year Jinx With Win Over CSK\\n\\nChennai Super Kings vs Royal Challengers Bengaluru Highlights, IPL 2025: This happened to be RCB's second win in Chennai with their first victory coming back in IPL 2008.\",\n",
       "  'score': 0.8593928},\n",
       " {'title': 'IPL 2025, CSK vs RCB Highlights: Bengaluru clinch rare win in ...',\n",
       "  'url': 'https://www.indiatoday.in/sports/cricket/story/csk-vs-rcb-live-score-updates-ipl-2025-virat-kohli-ms-dhoni-noor-ahmad-2700645-2025-03-28',\n",
       "  'content': \"Bengaluru won that game by 27 runs, knocking Chennai out of the IPL. Yash Dayal bowled a sensational final over picking the wicket of MS Dhoni.\\n\\nHowever, controversy struck after MS Dhoni hurriedly walked off the pitch when CSK were left waiting for the customary handshake before the game.\\n\\nHere's a recap of what happened in that game.\\n\\nCSK vs RCB Team News: Predicted XIs and Impact Players [...] Hello and welcome to India Today's live coverage of Chennai Super Kings vs Royal Challengers. We are in Chennai as two of the powerhouses play their second match of the Indian Premier League. Both CSK and RCB have come off empathetic wins in their last match. While Bengaluru hammered Kolkata Knight Riders at home, CSK beat Mumbai Indians convincingly at home. Only one factor will decide this game today: Can Rajat Patidar's team take Chennai's spin threat down? Keep tabs on this live blog as we [...] CSK vs RCB Live: Pitch Report and Weather Forecast\\n\\nRead the complete report here.\\n\\nCSK vs RCB: Head-to-Head Record\\n\\nCSK lead 21-11 to RCB in the Indian Premier League. RCB have lost their last eight encounters in Chennai.\\n\\nIPL Live Match: Dinesh Karthik's praise for Kohli\",\n",
       "  'score': 0.8482825}]"
      ]
     },
     "execution_count": 10,
     "metadata": {},
     "output_type": "execute_result"
    }
   ],
   "source": [
    "search.invoke(\"who won the IPL between RCB and CSK\")"
   ]
  },
  {
   "cell_type": "code",
   "execution_count": 11,
   "metadata": {},
   "outputs": [],
   "source": [
    "## my web search and llm is working fine i can use both of them"
   ]
  },
  {
   "cell_type": "code",
   "execution_count": 12,
   "metadata": {},
   "outputs": [],
   "source": [
    "## so what actually i am going to make \n",
    "## how actually this system will work\n",
    "## what this system will take as input\n",
    "## and what output this system will give"
   ]
  },
  {
   "cell_type": "code",
   "execution_count": 13,
   "metadata": {},
   "outputs": [
    {
     "data": {
      "text/plain": [
       "'  This is multiagent supervisor system, on top we will have the supervisor agent under this supervisor agent\\nwe will have another agents working for this supervisor agent.this supervisor agnet will have information about each agent\\nlike how any particular agent will work internally what input it will take and what output it will provide.The user question will\\nbe sent to this supervisor agent based on this supervisor agent will decide to which agent we will send this question.\\nafter the question is sent to a particular agent. that agent will do its processing and will generate the output.this generated output will\\nbe sent to supervisor and this supervisor will give that output to another agent as input and process will continue until the suoervisor agent \\nfinds that now we need to give the answer to user. so basically our system will work like this.\\nnow we need to understand how this supervisor agnet technique is different from network agent technique, in the network agent technique which we have already done\\nearlier. there was no any superbisor agent.\\n'"
      ]
     },
     "execution_count": 13,
     "metadata": {},
     "output_type": "execute_result"
    }
   ],
   "source": [
    "\"\"\"  This is multiagent supervisor system, on top we will have the supervisor agent under this supervisor agent\n",
    "we will have another agents working for this supervisor agent.this supervisor agnet will have information about each agent\n",
    "like how any particular agent will work internally what input it will take and what output it will provide.The user question will\n",
    "be sent to this supervisor agent based on this supervisor agent will decide to which agent we will send this question.\n",
    "after the question is sent to a particular agent. that agent will do its processing and will generate the output.this generated output will\n",
    "be sent to supervisor and this supervisor will give that output to another agent as input and process will continue until the suoervisor agent \n",
    "finds that now we need to give the answer to user. so basically our system will work like this.\n",
    "now we need to understand how this supervisor agnet technique is different from network agent technique, in the network agent technique which we have already done\n",
    "earlier. there was no any superbisor agent.\n",
    "\"\"\""
   ]
  },
  {
   "cell_type": "code",
   "execution_count": 14,
   "metadata": {},
   "outputs": [],
   "source": [
    "from typing import Annotated\n",
    "\n",
    "from langchain_community.tools.tavily_search import TavilySearchResults\n",
    "from langchain_core.tools import tool\n",
    "from langchain_experimental.utilities import PythonREPL\n",
    "\n",
    "tavily_tool = TavilySearchResults(max_results=5)\n",
    "\n",
    "\n",
    "repl = PythonREPL()\n",
    "\n",
    "\n",
    "@tool\n",
    "def python_repl_tool(\n",
    "    code: Annotated[str, \"The python code to execute to generate your chart.\"],\n",
    "):\n",
    "    \"\"\"Use this to execute python code. If you want to see the output of a value,\n",
    "    you should print it out with `print(...)`. This is visible to the user.\"\"\"\n",
    "    try:\n",
    "        result = repl.run(code)\n",
    "    except BaseException as e:\n",
    "        return f\"Failed to execute. Error: {repr(e)}\"\n",
    "    result_str = f\"Successfully executed:\\n\\`\\`\\`python\\n{code}\\n\\`\\`\\`\\nStdout: {result}\"\n",
    "    return (\n",
    "        result_str + \"\\n\\nIf you have completed all tasks, respond with FINAL ANSWER.\"\n",
    "    )"
   ]
  },
  {
   "cell_type": "code",
   "execution_count": 15,
   "metadata": {},
   "outputs": [],
   "source": [
    "from typing import Literal\n",
    "from typing_extensions import TypedDict\n",
    "from langgraph.graph import MessagesState,START,END\n",
    "from langgraph.types import Command\n",
    "\n",
    "members = [\"researcher\",\"coder\"] ## these are the two agents which will be working in my system\n",
    "options = members + [\"FINISH\"] ## supervisor can assign work to any of above two agents or it can also stop the flow\n",
    "## writing the prompt for the supervisor agent\n",
    "system_prompt = (\"\"\"\n",
    "You are a superviser agent tasked with managing conversation between  the following workers\n",
    "{members}.Given the following user request responsd with the worker to act next.Each wroker will perform a task\n",
    "and respond with their result and status. When finish respond with FINISH.\n",
    "\"\"\")"
   ]
  },
  {
   "cell_type": "code",
   "execution_count": 16,
   "metadata": {},
   "outputs": [],
   "source": [
    "## i will make a router class\n",
    "## this router class will be attached with llm\n",
    "## so that llm will give structured output only\n",
    "class router(TypedDict):\n",
    "    \"worker to route next. if no worker needed move to FINISH\"\n",
    "    next: Literal[\"researcher\",\"coder\",\"FINISH\"]\n"
   ]
  },
  {
   "cell_type": "code",
   "execution_count": 17,
   "metadata": {},
   "outputs": [],
   "source": [
    "class State(MessagesState):\n",
    "    next:str"
   ]
  },
  {
   "cell_type": "code",
   "execution_count": 18,
   "metadata": {},
   "outputs": [],
   "source": [
    "## from now ownwards i will write the entire code on my own\n",
    "def supervisor_node(state:State)-> Command[Literal[\"researcher\",\"coder\",\"__end__\"]]: ## this function  can return these three things\n",
    "    question = state[\"messages\"]\n",
    "    messages = [{\"role\":\"system\",\"content\":system_prompt}] + question\n",
    "    response = llm.with_structured_output(router).invoke(messages)\n",
    "    ## this response will be either researcher,coder or FINISH\n",
    "    goto = response[\"next\"]\n",
    "    if goto == \"FINISH\":\n",
    "        goto = END\n",
    "    return Command(\n",
    "        update = {\"next\":goto},\n",
    "        goto = goto\n",
    "    )"
   ]
  },
  {
   "cell_type": "code",
   "execution_count": 19,
   "metadata": {},
   "outputs": [],
   "source": [
    "## till here i have created the system for the supervisor agent\n",
    "## based on the given question my supervisor can decide to which agent i should call or i should end the process\n",
    "## now i will be creating the researcher system\n",
    "from langchain_core.messages import HumanMessage,BaseMessage\n",
    "from langgraph.prebuilt import create_react_agent\n",
    "researcher_agent = create_react_agent(\n",
    "    llm,\n",
    "    tools = [search],\n",
    "    prompt = \"You do search from web,and return the result\"\n",
    ")\n",
    "\n",
    "def researcher_node(state:MessagesState) -> Command[Literal[\"supervisor\"]]:\n",
    "    response = researcher_agent.invoke(state)\n",
    "   \n",
    "    return Command(\n",
    "        update = {\"messages\":HumanMessage(\n",
    "            content = response[\"messages\"][-1].content,name = \"researcher\"\n",
    "        )},\n",
    "        goto = \"supervisor\"\n",
    "\n",
    "    )\n"
   ]
  },
  {
   "cell_type": "code",
   "execution_count": 20,
   "metadata": {},
   "outputs": [],
   "source": [
    "## till here i have created the system for researcher \n",
    "## now i will be creating the system for chart generator\n",
    "chart_gen_agent = create_react_agent(\n",
    "    llm,\n",
    "    tools = [python_repl_tool],\n",
    "    prompt=\"The python code will be provided to you based on that code you will make tha chart\"\n",
    ")\n",
    "def code_node(state:State) -> Command[Literal[\"supervisor\"]]:\n",
    "    response = chart_gen_agent.invoke(state)\n",
    "    return Command(\n",
    "        update = {\"messages\":HumanMessage(\n",
    "            content = response[\"messages\"][-1].content,name = \"coder\"\n",
    "        )},\n",
    "        goto = \"supervisor\"\n",
    "    )"
   ]
  },
  {
   "cell_type": "code",
   "execution_count": 21,
   "metadata": {},
   "outputs": [],
   "source": [
    "from langgraph.graph import START,StateGraph,END,MessagesState"
   ]
  },
  {
   "cell_type": "code",
   "execution_count": 22,
   "metadata": {},
   "outputs": [],
   "source": [
    "## i think i have made both of the agents now i can make my workflow\n",
    "workflow = StateGraph(State)\n",
    "workflow.add_node(\"supervisor\",supervisor_node)\n",
    "workflow.add_node(\"researcher\",researcher_node)\n",
    "workflow.add_node(\"coder\",code_node)\n",
    "workflow.add_edge(START,\"supervisor\")\n",
    "graph = workflow.compile()"
   ]
  },
  {
   "cell_type": "code",
   "execution_count": 23,
   "metadata": {},
   "outputs": [
    {
     "data": {
      "image/png": "[encoded data removed]",
      "text/plain": [
       "<IPython.core.display.Image object>"
      ]
     },
     "metadata": {},
     "output_type": "display_data"
    }
   ],
   "source": [
    "## we have designed the architecture of our graph now i will see how actually my graph is looking like\n",
    "from IPython.display import Image, display\n",
    "\n",
    "try:\n",
    "    display(Image(graph.get_graph().draw_mermaid_png()))\n",
    "except Exception:\n",
    "    # This requires some extra dependencies and is optional\n",
    "    pass"
   ]
  },
  {
   "cell_type": "code",
   "execution_count": 24,
   "metadata": {},
   "outputs": [
    {
     "name": "stdout",
     "output_type": "stream",
     "text": [
      "((), {'supervisor': {'next': '__end__'}})\n",
      "----\n"
     ]
    }
   ],
   "source": [
    "for s in graph.stream(\n",
    "    {\"messages\": [(\"user\", \"What's the square root of 42?\")]}, subgraphs=True\n",
    "):\n",
    "    print(s)\n",
    "    print(\"----\")"
   ]
  },
  {
   "cell_type": "code",
   "execution_count": 25,
   "metadata": {},
   "outputs": [
    {
     "data": {
      "text/plain": [
       "\"\\n\\nAlright, so I need to figure out the square root of 42. Hmm, I remember that the square root of a number is a value that, when multiplied by itself, gives the original number. So, for 42, I'm looking for a number that, when squared, equals 42.\\n\\nFirst, I'll try to estimate it. I know that 6 squared is 36 and 7 squared is 49. Since 42 is between 36 and 49, the square root of 42 must be between 6 and 7. To get a better estimate, I can see how far 42 is from 36 and 49. The difference between 36 and 42 is 6, and between 42 and 49 is 7. So, 42 is closer to 36 than to 49, which suggests that the square root is closer to 6 than to 7.\\n\\nTo get a more precise value, I'll use a method called the Newton-Raphson method for finding square roots. This method involves making an initial guess and then iteratively improving that guess until it's accurate enough.\\n\\nLet's start with an initial guess, x₀, of 6.5. The formula for the Newton-Raphson method is:\\n\\nx_{n+1} = (x_n + S/x_n) / 2\\n\\nwhere S is the number for which we're finding the square root, which is 42 in this case.\\n\\nSo, plugging in the numbers:\\n\\nx₁ = (6.5 + 42/6.5) / 2\\n\\nFirst, calculate 42 divided by 6.5:\\n\\n42 / 6.5 = 6.4615\\n\\nThen, add that to 6.5:\\n\\n6.5 + 6.4615 = 12.9615\\n\\nNow, divide by 2:\\n\\n12.9615 / 2 = 6.48075\\n\\nSo, x₁ is approximately 6.48075. To check how accurate this is, I'll square 6.48075:\\n\\n6.48075² = 6.48075 * 6.48075 ≈ 42.000000\\n\\nThat's very close to 42, so the square root of 42 is approximately 6.4807. In exact form, it's represented as √42.\\n\\nJust to make sure, I'll try another iteration of the Newton-Raphson method to see if it converges further:\\n\\nx₂ = (6.48075 + 42/6.48075) / 2\\n\\nFirst, calculate 42 divided by 6.48075:\\n\\n42 / 6.48075 ≈ 6.48075\\n\\nThen, add that to 6.48075:\\n\\n6.48075 + 6.48075 = 12.9615\\n\\nDivide by 2:\\n\\n12.9615 / 2 = 6.48075\\n\\nSo, x₂ is the same as x₁, which means we've reached a stable value. This confirms that the square root of 42 is approximately 6.4807.\\n\\nIn summary, through estimation and applying the Newton-Raphson method, I determined that the square root of 42 is approximately 6.4807, or exactly √42.\""
      ]
     },
     "execution_count": 25,
     "metadata": {},
     "output_type": "execute_result"
    }
   ],
   "source": [
    "graph.invoke( {\"messages\": [(\"user\", \"What's the square root of 42?\")]})[\"messages\"][-1].content"
   ]
  },
  {
   "cell_type": "code",
   "execution_count": 27,
   "metadata": {},
   "outputs": [
    {
     "name": "stdout",
     "output_type": "stream",
     "text": [
      "{'supervisor': {'next': 'researcher'}}\n",
      "----\n",
      "{'researcher': {'messages': HumanMessage(content=\"I currently can't access real-time data or generate charts directly. However, I can guide you on how to obtain the UK's GDP data for the past five years and create a line chart.\\n\\n1. **Obtain GDP Data:**\\n   - Visit a reliable source such as the [World Bank](https://www.worldbank.org/) or the [UK's Office for National Statistics](https://www.ons.gov.uk/).\\n   - Navigate to the GDP section and download the historical data for the UK, covering the past five years.\\n\\n2. **Create a Line Chart:**\\n   - Use spreadsheet software like Excel or Google Sheets.\\n   - Import the GDP data into the software.\\n   - Select the data range and use the chart creation tool to make a line chart.\\n   - Customize the chart as needed (titles, axes labels, colors).\\n\\n3. **Alternative Tools:**\\n   - **Python:** Use libraries like `matplotlib` or `seaborn` to create a line chart from the data.\\n   - **R:** Use `ggplot2` for a similar purpose.\\n\\nIf you provide the GDP data, I can help you interpret it or suggest how to present it effectively. Let me know if you need further assistance!\", additional_kwargs={}, response_metadata={}, name='researcher', id='153888ac-d1fb-47a0-b617-bda305233e6b')}}\n",
      "----\n",
      "{'supervisor': {'next': 'researcher'}}\n",
      "----\n",
      "{'researcher': {'messages': HumanMessage(content='To create a line chart of the UK\\'s GDP over the past five years, follow these steps:\\n\\n### Data Overview (2019–2023):\\n- **2019:** £2,474,245 million\\n- **2020:** £2,219,474 million\\n- **2021:** £2,409,815 million\\n- **2022:** £2,526,428 million\\n- **2023:** £2,536,090 million\\n\\n### Instructions Using Excel or Google Sheets:\\n\\n1. **Input the Data:**\\n   - Open a new spreadsheet.\\n   - In the first column (A), enter the years: 2019, 2020, 2021, 2022, 2023.\\n   - In the second column (B), enter the corresponding GDP values.\\n\\n2. **Select the Data Range:**\\n   - Highlight both columns from A1 to B5.\\n\\n3. **Insert a Line Chart:**\\n   - Go to the \"Insert\" menu.\\n   - Choose \"Line Chart\" or \"Line Chart with Markers\" for clarity.\\n\\n4. **Customize the Chart:**\\n   - **Title:** Enter \"UK GDP (2019–2023)\".\\n   - **X-axis Label:** Set to \"Year\".\\n   - **Y-axis Label:** Set to \"GDP (million GBP)\".\\n   - Adjust colors and styles as desired.\\n\\n5. **Analyze the Trend:**\\n   - Notice the dip in 2020, likely due to the COVID-19 pandemic.\\n   - Observe the recovery and growth from 2021 onwards.\\n\\n6. **Save and Share:**\\n   - Save your chart as an image or include it directly in your document.\\n\\n### Alternative: Using Python\\n\\nIf you prefer using Python, here\\'s a simple script with `matplotlib`:\\n\\n```python\\nimport matplotlib.pyplot as plt\\n\\nyears = [2019, 2020, 2021, 2022, 2023]\\ngdp = [2474.245, 2219.474, 2409.815, 2526.428, 2536.090]\\n\\nplt.figure(figsize=(10,6))\\nplt.plot(years, gdp, marker=\\'o\\')\\nplt.title(\\'UK GDP (2019–2023)\\')\\nplt.xlabel(\\'Year\\')\\nplt.ylabel(\\'GDP (billion GBP)\\')\\nplt.grid(True)\\nplt.show()\\n```\\n\\nThis script will generate a line chart showing the GDP trend from 2019 to 2023.\\n\\nLet me know if you need further assistance!', additional_kwargs={}, response_metadata={}, name='researcher', id='aa6ca8b5-0852-465b-9206-597b65c2f77c')}}\n",
      "----\n",
      "{'supervisor': {'next': '__end__'}}\n",
      "----\n"
     ]
    }
   ],
   "source": [
    "events = graph.stream(\n",
    "    {\n",
    "        \"messages\": [\n",
    "            (\n",
    "                \"user\",\n",
    "                \"First, get the UK's GDP over the past 5 years, then make a line chart of it. \"\n",
    "                \"Once you make the chart, finish.\",\n",
    "            )\n",
    "        ],\n",
    "    },\n",
    "    # Maximum number of steps to take in the graph\n",
    "    {\"recursion_limit\": 150},\n",
    ")\n",
    "for s in events:\n",
    "    print(s)\n",
    "    print(\"----\")"
   ]
  }
 ],
 "metadata": {
  "kernelspec": {
   "display_name": "venv",
   "language": "python",
   "name": "python3"
  },
  "language_info": {
   "codemirror_mode": {
    "name": "ipython",
    "version": 3
   },
   "file_extension": ".py",
   "mimetype": "text/x-python",
   "name": "python",
   "nbconvert_exporter": "python",
   "pygments_lexer": "ipython3",
   "version": "3.10.0"
  }
 },
 "nbformat": 4,
 "nbformat_minor": 2
}
